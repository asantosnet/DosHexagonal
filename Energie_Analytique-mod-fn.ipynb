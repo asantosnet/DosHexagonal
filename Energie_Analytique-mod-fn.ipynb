{
 "cells": [
  {
   "cell_type": "code",
   "execution_count": 2,
   "metadata": {},
   "outputs": [
    {
     "name": "stderr",
     "output_type": "stream",
     "text": [
      "/home/asneto/anaconda2/lib/python2.7/site-packages/numpy/lib/function_base.py:754: ComplexWarning: Casting complex values to real discards the imaginary part\n",
      "  tmp_a_data = tmp_a.astype(float)\n",
      "/home/asneto/anaconda2/lib/python2.7/site-packages/numpy/lib/function_base.py:760: ComplexWarning: Casting complex values to real discards the imaginary part\n",
      "  indices = tmp_a.astype(np.intp)\n",
      "/home/asneto/anaconda2/lib/python2.7/site-packages/numpy/lib/function_base.py:816: ComplexWarning: Casting complex values to real discards the imaginary part\n",
      "  db = array(np.diff(bins), float)\n",
      "/home/asneto/anaconda2/lib/python2.7/site-packages/matplotlib/transforms.py:814: ComplexWarning: Casting complex values to real discards the imaginary part\n",
      "  points = np.array(args, dtype=float).reshape(2, 2)\n",
      "/home/asneto/anaconda2/lib/python2.7/site-packages/matplotlib/transforms.py:2037: ComplexWarning: Casting complex values to real discards the imaginary part\n",
      "  x, y = float(x), float(y)\n"
     ]
    },
    {
     "data": {
      "image/png": "[encoded data removed]",
      "text/plain": [
       "<matplotlib.figure.Figure at 0x7fa7587aa490>"
      ]
     },
     "metadata": {},
     "output_type": "display_data"
    }
   ],
   "source": [
    "import matplotlib.pyplot as plt\n",
    "import numpy as np\n",
    "from IPython.core.debugger import set_trace\n",
    "from matplotlib.backends.backend_pdf import PdfPages\n",
    "\n",
    "n1 = 66\n",
    "n2 = n1\n",
    "t = 1\n",
    "\n",
    "#calcul de Hamiltonien avec la transformée de fourier\n",
    "\n",
    "\n",
    "Hanalytique = np.zeros((2*n1*n2 ,2*n1*n2),dtype = 'complex')\n",
    "Eingvect = np.zeros((2*n1*n2 ,2*n1*n2),dtype = 'complex')\n",
    "\n",
    "Htemp = np.zeros((2,2), dtype = 'complex')\n",
    "\n",
    "\n",
    "\n",
    "\n",
    "delta = np.array([[0.5,np.sqrt(3)*0.5],[0.5,-np.sqrt(3)*0.5],[-1,0]])\n",
    "\n",
    "latticevect=(2.0*np.pi/3)*np.array([[1,np.sqrt(3)],[1,-np.sqrt(3)]])\n",
    "\n",
    "\n",
    "pos = 0\n",
    "\n",
    "\n",
    "for i in range(0,n1):\n",
    "    \n",
    "    for j in range(0,n2):\n",
    "\n",
    "        kvect = (i/(n1*1.0))*latticevect[0,:] + (j/(n2*1.0))*latticevect[1,:]    \n",
    "        \n",
    "        deltak1 = np.dot(delta[1,:],kvect)\n",
    "        \n",
    "        deltak2 = np.dot(delta[2,:],kvect)\n",
    "        \n",
    "        deltak3 = np.dot(delta[0,:],kvect)\n",
    "        \n",
    "        \n",
    "        Htemp = np.zeros((2,2), dtype = 'complex')\n",
    "        \n",
    "        Htemp[0,1]+= -t*(np.exp(1j*(deltak1)) + np.exp(1j*(deltak2)) +  np.exp(1j*(deltak3)))\n",
    "        Htemp[1,0]+= -t*(np.exp(-1j*(deltak1)) + np.exp(-1j*(deltak2)) +  np.exp(-1j*(deltak3)))\n",
    "\n",
    "        einval,eingvect = np.linalg.eig(Htemp)\n",
    "\n",
    "  \n",
    "        Hanalytique [pos,pos] += einval[0]\n",
    "        Hanalytique [pos+1,pos+1] += einval[1]\n",
    "        \n",
    "        pos +=2\n",
    "        \n",
    "\n",
    "einval = np.diag(Hanalytique)\n",
    "\n",
    "\n",
    "# the histogram of the data : density of states \n",
    "\n",
    "nbins = n1\n",
    "\n",
    "x_Total = einval\n",
    "\n",
    "plt.figure(1)\n",
    "\n",
    "n_, bins_, patches_ = plt.hist(x_Total, nbins , normed=1, facecolor='green')\n",
    "\n",
    "plt.ylabel('Probability')\n",
    "plt.title('Densite des etats sans SOC')\n",
    "plt.xlabel('Energie')\n",
    "plt.grid(True)\n",
    "\n",
    "plt.savefig(\"conedirac.pdf\", bbox_inches='tight')\n",
    "\n",
    "plt.show()\n"
   ]
  }
 ],
 "metadata": {
  "kernelspec": {
   "display_name": "Python 2",
   "language": "python",
   "name": "python2"
  },
  "language_info": {
   "codemirror_mode": {
    "name": "ipython",
    "version": 2
   },
   "file_extension": ".py",
   "mimetype": "text/x-python",
   "name": "python",
   "nbconvert_exporter": "python",
   "pygments_lexer": "ipython2",
   "version": "2.7.14"
  }
 },
 "nbformat": 4,
 "nbformat_minor": 2
}
